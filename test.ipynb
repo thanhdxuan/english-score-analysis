{
 "cells": [
  {
   "cell_type": "code",
   "execution_count": 2,
   "metadata": {},
   "outputs": [],
   "source": [
    "pre_test       = [5, 6, 5.5, 5, 6, 5, 5.5, 6, 5, 5.5]\n",
    "while_test_1   = [5.5, 6, 6, 5.5, 5.5, 6, 6, 6.5, 5.5, 5.5]\n",
    "while_test_2   = [5.5, 5.5, 6, 5.5, 6, 6, 6.5, 6.5, 5.5, 6]\n",
    "post_test      = [5.5, 6, 6, 5.5, 6, 6.5, 7, 7.5, 6, 6.5]"
   ]
  },
  {
   "cell_type": "code",
   "execution_count": 3,
   "metadata": {},
   "outputs": [
    {
     "data": {
      "text/html": [
       "<div>\n",
       "<style scoped>\n",
       "    .dataframe tbody tr th:only-of-type {\n",
       "        vertical-align: middle;\n",
       "    }\n",
       "\n",
       "    .dataframe tbody tr th {\n",
       "        vertical-align: top;\n",
       "    }\n",
       "\n",
       "    .dataframe thead th {\n",
       "        text-align: right;\n",
       "    }\n",
       "</style>\n",
       "<table border=\"1\" class=\"dataframe\">\n",
       "  <thead>\n",
       "    <tr style=\"text-align: right;\">\n",
       "      <th></th>\n",
       "      <th>Pre-Test</th>\n",
       "      <th>While-Test 1</th>\n",
       "      <th>While-Test 2</th>\n",
       "      <th>Post-Test</th>\n",
       "      <th>Difference</th>\n",
       "    </tr>\n",
       "  </thead>\n",
       "  <tbody>\n",
       "    <tr>\n",
       "      <th>0</th>\n",
       "      <td>5.0</td>\n",
       "      <td>5.5</td>\n",
       "      <td>5.5</td>\n",
       "      <td>5.5</td>\n",
       "      <td>0.5</td>\n",
       "    </tr>\n",
       "    <tr>\n",
       "      <th>1</th>\n",
       "      <td>6.0</td>\n",
       "      <td>6.0</td>\n",
       "      <td>5.5</td>\n",
       "      <td>6.0</td>\n",
       "      <td>0.0</td>\n",
       "    </tr>\n",
       "    <tr>\n",
       "      <th>2</th>\n",
       "      <td>5.5</td>\n",
       "      <td>6.0</td>\n",
       "      <td>6.0</td>\n",
       "      <td>6.0</td>\n",
       "      <td>0.5</td>\n",
       "    </tr>\n",
       "    <tr>\n",
       "      <th>3</th>\n",
       "      <td>5.0</td>\n",
       "      <td>5.5</td>\n",
       "      <td>5.5</td>\n",
       "      <td>5.5</td>\n",
       "      <td>0.5</td>\n",
       "    </tr>\n",
       "    <tr>\n",
       "      <th>4</th>\n",
       "      <td>6.0</td>\n",
       "      <td>5.5</td>\n",
       "      <td>6.0</td>\n",
       "      <td>6.0</td>\n",
       "      <td>0.0</td>\n",
       "    </tr>\n",
       "  </tbody>\n",
       "</table>\n",
       "</div>"
      ],
      "text/plain": [
       "   Pre-Test  While-Test 1  While-Test 2  Post-Test  Difference\n",
       "0       5.0           5.5           5.5        5.5         0.5\n",
       "1       6.0           6.0           5.5        6.0         0.0\n",
       "2       5.5           6.0           6.0        6.0         0.5\n",
       "3       5.0           5.5           5.5        5.5         0.5\n",
       "4       6.0           5.5           6.0        6.0         0.0"
      ]
     },
     "execution_count": 3,
     "metadata": {},
     "output_type": "execute_result"
    }
   ],
   "source": [
    "import numpy as np\n",
    "import pandas as pd\n",
    "\n",
    "\n",
    "d = {\n",
    "   'Pre-Test': pre_test,\n",
    "   'While-Test 1': while_test_1,\n",
    "   'While-Test 2': while_test_2,\n",
    "   'Post-Test': post_test\n",
    "}\n",
    "\n",
    "df = pd.DataFrame(\n",
    "   data=d\n",
    ")\n",
    "\n",
    "df\n",
    "\n",
    "def difference(a,b):\n",
    "    return b-a\n",
    "\n",
    "df['Difference']=df.apply(lambda row: difference(row['Pre-Test'], row['Post-Test']), axis=1)\n",
    "\n",
    "diff = df['Difference'].values\n",
    "df.head()"
   ]
  },
  {
   "cell_type": "code",
   "execution_count": null,
   "metadata": {},
   "outputs": [],
   "source": []
  },
  {
   "cell_type": "code",
   "execution_count": 4,
   "metadata": {},
   "outputs": [
    {
     "data": {
      "text/html": [
       "<div>\n",
       "<style scoped>\n",
       "    .dataframe tbody tr th:only-of-type {\n",
       "        vertical-align: middle;\n",
       "    }\n",
       "\n",
       "    .dataframe tbody tr th {\n",
       "        vertical-align: top;\n",
       "    }\n",
       "\n",
       "    .dataframe thead th {\n",
       "        text-align: right;\n",
       "    }\n",
       "</style>\n",
       "<table border=\"1\" class=\"dataframe\">\n",
       "  <thead>\n",
       "    <tr style=\"text-align: right;\">\n",
       "      <th></th>\n",
       "      <th>Mean</th>\n",
       "      <th>Std. Deviation</th>\n",
       "      <th>Std. Error Mean</th>\n",
       "    </tr>\n",
       "  </thead>\n",
       "  <tbody>\n",
       "    <tr>\n",
       "      <th>Pre-Test</th>\n",
       "      <td>5.45</td>\n",
       "      <td>0.437798</td>\n",
       "      <td>0.138444</td>\n",
       "    </tr>\n",
       "    <tr>\n",
       "      <th>While-Test 1</th>\n",
       "      <td>5.80</td>\n",
       "      <td>0.349603</td>\n",
       "      <td>0.110554</td>\n",
       "    </tr>\n",
       "    <tr>\n",
       "      <th>While-Test 2</th>\n",
       "      <td>5.90</td>\n",
       "      <td>0.394405</td>\n",
       "      <td>0.124722</td>\n",
       "    </tr>\n",
       "    <tr>\n",
       "      <th>Post-Test</th>\n",
       "      <td>6.25</td>\n",
       "      <td>0.634648</td>\n",
       "      <td>0.200693</td>\n",
       "    </tr>\n",
       "    <tr>\n",
       "      <th>Difference</th>\n",
       "      <td>0.80</td>\n",
       "      <td>0.586894</td>\n",
       "      <td>0.185592</td>\n",
       "    </tr>\n",
       "  </tbody>\n",
       "</table>\n",
       "</div>"
      ],
      "text/plain": [
       "              Mean  Std. Deviation  Std. Error Mean\n",
       "Pre-Test      5.45        0.437798         0.138444\n",
       "While-Test 1  5.80        0.349603         0.110554\n",
       "While-Test 2  5.90        0.394405         0.124722\n",
       "Post-Test     6.25        0.634648         0.200693\n",
       "Difference    0.80        0.586894         0.185592"
      ]
     },
     "execution_count": 4,
     "metadata": {},
     "output_type": "execute_result"
    }
   ],
   "source": [
    "cols = ['Mean', 'Std. Deviation', 'Std. Error Mean']\n",
    "\n",
    "pd.DataFrame(np.array([df.mean(0), df.std(0), df.sem(0)]).T, columns=cols, index=df.columns)"
   ]
  },
  {
   "cell_type": "code",
   "execution_count": 5,
   "metadata": {},
   "outputs": [
    {
     "data": {
      "text/html": [
       "<div>\n",
       "<style scoped>\n",
       "    .dataframe tbody tr th:only-of-type {\n",
       "        vertical-align: middle;\n",
       "    }\n",
       "\n",
       "    .dataframe tbody tr th {\n",
       "        vertical-align: top;\n",
       "    }\n",
       "\n",
       "    .dataframe thead th {\n",
       "        text-align: right;\n",
       "    }\n",
       "</style>\n",
       "<table border=\"1\" class=\"dataframe\">\n",
       "  <thead>\n",
       "    <tr style=\"text-align: right;\">\n",
       "      <th></th>\n",
       "      <th>Mean</th>\n",
       "      <th>Std. Deviation</th>\n",
       "      <th>Std. Error Mean</th>\n",
       "    </tr>\n",
       "  </thead>\n",
       "  <tbody>\n",
       "    <tr>\n",
       "      <th>Pre-Test</th>\n",
       "      <td>5.5</td>\n",
       "      <td>0.500000</td>\n",
       "      <td>0.223607</td>\n",
       "    </tr>\n",
       "    <tr>\n",
       "      <th>While-Test 1</th>\n",
       "      <td>5.7</td>\n",
       "      <td>0.273861</td>\n",
       "      <td>0.122474</td>\n",
       "    </tr>\n",
       "    <tr>\n",
       "      <th>While-Test 2</th>\n",
       "      <td>5.7</td>\n",
       "      <td>0.273861</td>\n",
       "      <td>0.122474</td>\n",
       "    </tr>\n",
       "    <tr>\n",
       "      <th>Post-Test</th>\n",
       "      <td>5.8</td>\n",
       "      <td>0.273861</td>\n",
       "      <td>0.122474</td>\n",
       "    </tr>\n",
       "    <tr>\n",
       "      <th>Difference</th>\n",
       "      <td>0.3</td>\n",
       "      <td>0.273861</td>\n",
       "      <td>0.122474</td>\n",
       "    </tr>\n",
       "  </tbody>\n",
       "</table>\n",
       "</div>"
      ],
      "text/plain": [
       "              Mean  Std. Deviation  Std. Error Mean\n",
       "Pre-Test       5.5        0.500000         0.223607\n",
       "While-Test 1   5.7        0.273861         0.122474\n",
       "While-Test 2   5.7        0.273861         0.122474\n",
       "Post-Test      5.8        0.273861         0.122474\n",
       "Difference     0.3        0.273861         0.122474"
      ]
     },
     "execution_count": 5,
     "metadata": {},
     "output_type": "execute_result"
    }
   ],
   "source": [
    "first = df.iloc[0:5]\n",
    "second = df.iloc[5:]\n",
    "\n",
    "pd.DataFrame(np.array([first.mean(0), first.std(0), first.sem(0)]).T, columns=cols, index=df.columns)"
   ]
  },
  {
   "cell_type": "code",
   "execution_count": 6,
   "metadata": {},
   "outputs": [
    {
     "data": {
      "text/html": [
       "<div>\n",
       "<style scoped>\n",
       "    .dataframe tbody tr th:only-of-type {\n",
       "        vertical-align: middle;\n",
       "    }\n",
       "\n",
       "    .dataframe tbody tr th {\n",
       "        vertical-align: top;\n",
       "    }\n",
       "\n",
       "    .dataframe thead th {\n",
       "        text-align: right;\n",
       "    }\n",
       "</style>\n",
       "<table border=\"1\" class=\"dataframe\">\n",
       "  <thead>\n",
       "    <tr style=\"text-align: right;\">\n",
       "      <th></th>\n",
       "      <th>Mean</th>\n",
       "      <th>Std. Deviation</th>\n",
       "      <th>Std. Error Mean</th>\n",
       "    </tr>\n",
       "  </thead>\n",
       "  <tbody>\n",
       "    <tr>\n",
       "      <th>Pre-Test</th>\n",
       "      <td>5.4</td>\n",
       "      <td>0.418330</td>\n",
       "      <td>0.187083</td>\n",
       "    </tr>\n",
       "    <tr>\n",
       "      <th>While-Test 1</th>\n",
       "      <td>5.9</td>\n",
       "      <td>0.418330</td>\n",
       "      <td>0.187083</td>\n",
       "    </tr>\n",
       "    <tr>\n",
       "      <th>While-Test 2</th>\n",
       "      <td>6.1</td>\n",
       "      <td>0.418330</td>\n",
       "      <td>0.187083</td>\n",
       "    </tr>\n",
       "    <tr>\n",
       "      <th>Post-Test</th>\n",
       "      <td>6.7</td>\n",
       "      <td>0.570088</td>\n",
       "      <td>0.254951</td>\n",
       "    </tr>\n",
       "    <tr>\n",
       "      <th>Difference</th>\n",
       "      <td>1.3</td>\n",
       "      <td>0.273861</td>\n",
       "      <td>0.122474</td>\n",
       "    </tr>\n",
       "  </tbody>\n",
       "</table>\n",
       "</div>"
      ],
      "text/plain": [
       "              Mean  Std. Deviation  Std. Error Mean\n",
       "Pre-Test       5.4        0.418330         0.187083\n",
       "While-Test 1   5.9        0.418330         0.187083\n",
       "While-Test 2   6.1        0.418330         0.187083\n",
       "Post-Test      6.7        0.570088         0.254951\n",
       "Difference     1.3        0.273861         0.122474"
      ]
     },
     "execution_count": 6,
     "metadata": {},
     "output_type": "execute_result"
    }
   ],
   "source": [
    "pd.DataFrame(np.array([second.mean(0), second.std(0), second.sem(0)]).T, columns=cols, index=df.columns)"
   ]
  },
  {
   "cell_type": "code",
   "execution_count": 7,
   "metadata": {},
   "outputs": [],
   "source": [
    "from scipy.stats import shapiro, kstest, ttest_ind\n",
    "# kstest(df['Difference'], 'norm')]"
   ]
  },
  {
   "cell_type": "code",
   "execution_count": 24,
   "metadata": {},
   "outputs": [
    {
     "name": "stdout",
     "output_type": "stream",
     "text": [
      "Shapiro Test Result for Pre-Test: ShapiroResult(statistic=0.8050406405115259, pvalue=0.01669373226529521)\n",
      "Shapiro Test Result for While-Test 1: ShapiroResult(statistic=0.7808945618304388, pvalue=0.00848897279069116)\n",
      "Shapiro Test Result for While-Test 2: ShapiroResult(statistic=0.8197045454065927, pvalue=0.025134415251800823)\n",
      "Shapiro Test Result for Post-Test: ShapiroResult(statistic=0.9032068635106315, pvalue=0.23750720354989552)\n",
      "Shapiro Test Result for Difference: ShapiroResult(statistic=0.878029749889342, pvalue=0.1238586271644549)\n"
     ]
    }
   ],
   "source": [
    "for col in df.columns:\n",
    "   print(f\"Shapiro Test Result for {col}: {shapiro(df[col])}\")"
   ]
  },
  {
   "cell_type": "markdown",
   "metadata": {},
   "source": [
    "We performed $t-test$ on two samples, the result shows that $p-value = 0.00414$ which was lower than $0.05$. We do have sufficient evidence to say that the mean score of students between the two data groups is different."
   ]
  }
 ],
 "metadata": {
  "kernelspec": {
   "display_name": "venv",
   "language": "python",
   "name": "python3"
  },
  "language_info": {
   "codemirror_mode": {
    "name": "ipython",
    "version": 3
   },
   "file_extension": ".py",
   "mimetype": "text/x-python",
   "name": "python",
   "nbconvert_exporter": "python",
   "pygments_lexer": "ipython3",
   "version": "3.11.8"
  }
 },
 "nbformat": 4,
 "nbformat_minor": 2
}
