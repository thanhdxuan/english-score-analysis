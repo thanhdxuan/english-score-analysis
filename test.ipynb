{
 "cells": [
  {
   "cell_type": "code",
   "execution_count": 97,
   "metadata": {},
   "outputs": [],
   "source": [
    "pre_test       = [5, 6, 5.5, 5, 6, 5, 5.5, 6, 5, 5.5]\n",
    "while_test_1   = [5.5, 6, 6, 5.5, 5.5, 6, 6, 6.5, 5.5, 5.5]\n",
    "while_test_2   = [5.5, 5.5, 6, 5.5, 6, 6, 6.5, 6.5, 5.5, 6]\n",
    "post_test      = [5.5, 6, 6, 5.5, 6, 6.5, 7, 7.5, 6, 6.5]"
   ]
  },
  {
   "cell_type": "code",
   "execution_count": 80,
   "metadata": {},
   "outputs": [
    {
     "name": "stdout",
     "output_type": "stream",
     "text": [
      "10\n",
      "10\n",
      "10\n",
      "10\n"
     ]
    }
   ],
   "source": [
    "tests = [pre_test, while_test_1, while_test_2, post_test]\n",
    "for test in tests:\n",
    "   print(len(test))"
   ]
  },
  {
   "cell_type": "code",
   "execution_count": 99,
   "metadata": {},
   "outputs": [
    {
     "data": {
      "text/html": [
       "<div>\n",
       "<style scoped>\n",
       "    .dataframe tbody tr th:only-of-type {\n",
       "        vertical-align: middle;\n",
       "    }\n",
       "\n",
       "    .dataframe tbody tr th {\n",
       "        vertical-align: top;\n",
       "    }\n",
       "\n",
       "    .dataframe thead th {\n",
       "        text-align: right;\n",
       "    }\n",
       "</style>\n",
       "<table border=\"1\" class=\"dataframe\">\n",
       "  <thead>\n",
       "    <tr style=\"text-align: right;\">\n",
       "      <th></th>\n",
       "      <th>Pre-Test</th>\n",
       "      <th>While-Test 1</th>\n",
       "      <th>While-Test 2</th>\n",
       "      <th>Post-Test</th>\n",
       "      <th>Difference</th>\n",
       "    </tr>\n",
       "  </thead>\n",
       "  <tbody>\n",
       "    <tr>\n",
       "      <th>0</th>\n",
       "      <td>5.0</td>\n",
       "      <td>5.5</td>\n",
       "      <td>5.5</td>\n",
       "      <td>5.5</td>\n",
       "      <td>0.5</td>\n",
       "    </tr>\n",
       "    <tr>\n",
       "      <th>1</th>\n",
       "      <td>6.0</td>\n",
       "      <td>6.0</td>\n",
       "      <td>5.5</td>\n",
       "      <td>6.0</td>\n",
       "      <td>0.0</td>\n",
       "    </tr>\n",
       "    <tr>\n",
       "      <th>2</th>\n",
       "      <td>5.5</td>\n",
       "      <td>6.0</td>\n",
       "      <td>6.0</td>\n",
       "      <td>6.0</td>\n",
       "      <td>0.5</td>\n",
       "    </tr>\n",
       "    <tr>\n",
       "      <th>3</th>\n",
       "      <td>5.0</td>\n",
       "      <td>5.5</td>\n",
       "      <td>5.5</td>\n",
       "      <td>5.5</td>\n",
       "      <td>0.5</td>\n",
       "    </tr>\n",
       "    <tr>\n",
       "      <th>4</th>\n",
       "      <td>6.0</td>\n",
       "      <td>5.5</td>\n",
       "      <td>6.0</td>\n",
       "      <td>6.0</td>\n",
       "      <td>0.0</td>\n",
       "    </tr>\n",
       "  </tbody>\n",
       "</table>\n",
       "</div>"
      ],
      "text/plain": [
       "   Pre-Test  While-Test 1  While-Test 2  Post-Test  Difference\n",
       "0       5.0           5.5           5.5        5.5         0.5\n",
       "1       6.0           6.0           5.5        6.0         0.0\n",
       "2       5.5           6.0           6.0        6.0         0.5\n",
       "3       5.0           5.5           5.5        5.5         0.5\n",
       "4       6.0           5.5           6.0        6.0         0.0"
      ]
     },
     "execution_count": 99,
     "metadata": {},
     "output_type": "execute_result"
    }
   ],
   "source": [
    "import numpy as np\n",
    "import pandas as pd\n",
    "\n",
    "\n",
    "d = {\n",
    "   'Pre-Test': pre_test,\n",
    "   'While-Test 1': while_test_1,\n",
    "   'While-Test 2': while_test_2,\n",
    "   'Post-Test': post_test\n",
    "}\n",
    "\n",
    "df = pd.DataFrame(\n",
    "   data=d\n",
    ")\n",
    "\n",
    "df\n",
    "\n",
    "def difference(a,b):\n",
    "    return b-a\n",
    "\n",
    "df['Difference']=df.apply(lambda row: difference(row['Pre-Test'], row['Post-Test']), axis=1)\n",
    "\n",
    "diff = df['Difference'].values\n",
    "df.head()"
   ]
  },
  {
   "cell_type": "code",
   "execution_count": 100,
   "metadata": {},
   "outputs": [
    {
     "data": {
      "text/html": [
       "<div>\n",
       "<style scoped>\n",
       "    .dataframe tbody tr th:only-of-type {\n",
       "        vertical-align: middle;\n",
       "    }\n",
       "\n",
       "    .dataframe tbody tr th {\n",
       "        vertical-align: top;\n",
       "    }\n",
       "\n",
       "    .dataframe thead th {\n",
       "        text-align: right;\n",
       "    }\n",
       "</style>\n",
       "<table border=\"1\" class=\"dataframe\">\n",
       "  <thead>\n",
       "    <tr style=\"text-align: right;\">\n",
       "      <th></th>\n",
       "      <th>Mean</th>\n",
       "      <th>Std. Deviation</th>\n",
       "      <th>Std. Error Mean</th>\n",
       "    </tr>\n",
       "  </thead>\n",
       "  <tbody>\n",
       "    <tr>\n",
       "      <th>Pre-Test</th>\n",
       "      <td>5.45</td>\n",
       "      <td>0.437798</td>\n",
       "      <td>0.138444</td>\n",
       "    </tr>\n",
       "    <tr>\n",
       "      <th>While-Test 1</th>\n",
       "      <td>5.80</td>\n",
       "      <td>0.349603</td>\n",
       "      <td>0.110554</td>\n",
       "    </tr>\n",
       "    <tr>\n",
       "      <th>While-Test 2</th>\n",
       "      <td>5.90</td>\n",
       "      <td>0.394405</td>\n",
       "      <td>0.124722</td>\n",
       "    </tr>\n",
       "    <tr>\n",
       "      <th>Post-Test</th>\n",
       "      <td>6.25</td>\n",
       "      <td>0.634648</td>\n",
       "      <td>0.200693</td>\n",
       "    </tr>\n",
       "    <tr>\n",
       "      <th>Difference</th>\n",
       "      <td>0.80</td>\n",
       "      <td>0.586894</td>\n",
       "      <td>0.185592</td>\n",
       "    </tr>\n",
       "  </tbody>\n",
       "</table>\n",
       "</div>"
      ],
      "text/plain": [
       "              Mean  Std. Deviation  Std. Error Mean\n",
       "Pre-Test      5.45        0.437798         0.138444\n",
       "While-Test 1  5.80        0.349603         0.110554\n",
       "While-Test 2  5.90        0.394405         0.124722\n",
       "Post-Test     6.25        0.634648         0.200693\n",
       "Difference    0.80        0.586894         0.185592"
      ]
     },
     "execution_count": 100,
     "metadata": {},
     "output_type": "execute_result"
    }
   ],
   "source": [
    "cols = ['Mean', 'Std. Deviation', 'Std. Error Mean']\n",
    "\n",
    "pd.DataFrame(np.array([df.mean(0), df.std(0), df.sem(0)]).T, columns=cols, index=df.columns)"
   ]
  },
  {
   "cell_type": "code",
   "execution_count": 108,
   "metadata": {},
   "outputs": [
    {
     "data": {
      "text/plain": [
       "[ShapiroResult(statistic=0.878029749889342, pvalue=0.1238586271644549)]"
      ]
     },
     "execution_count": 108,
     "metadata": {},
     "output_type": "execute_result"
    }
   ],
   "source": [
    "from scipy.stats import shapiro, kstest, ttest_ind\n",
    "[shapiro(df['Difference'])]\n",
    "# kstest(df['Difference'], 'norm')]"
   ]
  },
  {
   "cell_type": "markdown",
   "metadata": {},
   "source": []
  },
  {
   "cell_type": "code",
   "execution_count": 102,
   "metadata": {},
   "outputs": [
    {
     "data": {
      "text/plain": [
       "ShapiroResult(statistic=0.9032068635106315, pvalue=0.23750720354989552)"
      ]
     },
     "execution_count": 102,
     "metadata": {},
     "output_type": "execute_result"
    }
   ],
   "source": [
    "shapiro(df['Post-Test'])"
   ]
  },
  {
   "cell_type": "code",
   "execution_count": 111,
   "metadata": {},
   "outputs": [
    {
     "data": {
      "text/plain": [
       "TtestResult(statistic=-3.2812124497183826, pvalue=0.004149825860702328, df=18.0)"
      ]
     },
     "execution_count": 111,
     "metadata": {},
     "output_type": "execute_result"
    }
   ],
   "source": [
    "# Perform the t-test of two samples (Pre-test and Post-test)\n",
    "ttest_ind(a=df['Pre-Test'], b=df['Post-Test'], equal_var=True)"
   ]
  },
  {
   "cell_type": "markdown",
   "metadata": {},
   "source": [
    "# T-value"
   ]
  },
  {
   "cell_type": "code",
   "execution_count": 25,
   "metadata": {},
   "outputs": [
    {
     "data": {
      "text/markdown": [
       "$SE = 0.186$"
      ],
      "text/plain": [
       "<IPython.core.display.Markdown object>"
      ]
     },
     "metadata": {},
     "output_type": "display_data"
    },
    {
     "data": {
      "text/markdown": [
       "$\\mu_1 = 5.45, \\mu_2 = 6.25$"
      ],
      "text/plain": [
       "<IPython.core.display.Markdown object>"
      ]
     },
     "metadata": {},
     "output_type": "display_data"
    }
   ],
   "source": [
    "SE = std/(len(df))**0.5\n",
    "DF = len(df)-1\n",
    "\n",
    "# Mean of sample 1:\n",
    "mu1 = df['pre_test'].values.mean()\n",
    "mu2 = df['post_test'].values.mean()\n",
    "\n",
    "printmd('$SE = {}$'.format(round(SE,3)))\n",
    "printmd('$\\mu_1 = {}, \\mu_2 = {}$'.format(round(mu1,2),round(mu2,2)))\n",
    "\n",
    "TestStatistic = (mu2 - mu1)/SE"
   ]
  },
  {
   "cell_type": "code",
   "execution_count": 28,
   "metadata": {},
   "outputs": [
    {
     "data": {
      "text/markdown": [
       "$t-score =  4.31$"
      ],
      "text/plain": [
       "<IPython.core.display.Markdown object>"
      ]
     },
     "metadata": {},
     "output_type": "display_data"
    },
    {
     "data": {
      "text/markdown": [
       "$p-value = 1.99804$"
      ],
      "text/plain": [
       "<IPython.core.display.Markdown object>"
      ]
     },
     "metadata": {},
     "output_type": "display_data"
    }
   ],
   "source": [
    "from scipy import stats\n",
    "pvalue = 2.0* stats.t.cdf(TestStatistic, DF)\n",
    "# Multiply by two, since this is two-tailed test\n",
    "\n",
    "printmd('$t-score =  {}$'.format(round(TestStatistic,2)))\n",
    "printmd(\"$p-value = {}$\".format(round(pvalue,5)))"
   ]
  }
 ],
 "metadata": {
  "kernelspec": {
   "display_name": "venv",
   "language": "python",
   "name": "python3"
  },
  "language_info": {
   "codemirror_mode": {
    "name": "ipython",
    "version": 3
   },
   "file_extension": ".py",
   "mimetype": "text/x-python",
   "name": "python",
   "nbconvert_exporter": "python",
   "pygments_lexer": "ipython3",
   "version": "3.11.8"
  }
 },
 "nbformat": 4,
 "nbformat_minor": 2
}
